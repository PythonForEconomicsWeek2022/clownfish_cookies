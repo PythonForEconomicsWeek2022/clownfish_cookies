{
 "cells": [
  {
   "cell_type": "code",
   "execution_count": 1,
   "id": "32a66b47",
   "metadata": {},
   "outputs": [],
   "source": [
    "import os\n",
    "import numpy as np\n",
    "import pandas as pd"
   ]
  },
  {
   "cell_type": "code",
   "execution_count": 2,
   "id": "f0ff7675",
   "metadata": {},
   "outputs": [],
   "source": [
    "# os.chdir(r\"C:\\Users\\Stella\\Desktop\\CFC\\Maxmin_tempset\") \n",
    "path = os.getcwd()"
   ]
  },
  {
   "cell_type": "code",
   "execution_count": 3,
   "id": "6000c7c3",
   "metadata": {},
   "outputs": [],
   "source": [
    "cols = ['region_code','region_name','date','max','min']"
   ]
  },
  {
   "cell_type": "code",
   "execution_count": 4,
   "id": "f3194626",
   "metadata": {},
   "outputs": [],
   "source": [
    "code_dict = {'North East':'E12000001','North West':'E12000002','Yorkshire and The Humber':'E12000003','East Midlands':'E12000004','West Midlands':'E12000005','East':'E12000006','London':'E12000007','South East':'E12000008','South West':'E12000009','Wales':'W92000004','Northern Ireland':'N92000002','West Scotland':'S17000018','East Scotland':'000000000','Isle of Man':'000000000','North Scotland':'000000000','West Scotland':'000000000'}"
   ]
  },
  {
   "cell_type": "code",
   "execution_count": 5,
   "id": "e586c484",
   "metadata": {},
   "outputs": [],
   "source": [
    "atdf = pd.DataFrame()"
   ]
  },
  {
   "cell_type": "code",
   "execution_count": 6,
   "id": "30e71e28",
   "metadata": {},
   "outputs": [
    {
     "name": "stdout",
     "output_type": "stream",
     "text": [
      "(22281, 5)\n",
      "(44562, 5)\n",
      "(66843, 5)\n",
      "(89124, 5)\n",
      "(111405, 5)\n",
      "(133686, 5)\n",
      "(155967, 5)\n",
      "(178248, 5)\n",
      "(200529, 5)\n",
      "(222810, 5)\n",
      "(245091, 5)\n",
      "(267372, 5)\n",
      "(289653, 5)\n",
      "(311934, 5)\n",
      "(334215, 5)\n"
     ]
    }
   ],
   "source": [
    "# Construct a dataframe for daily data\n",
    "for r in code_dict:\n",
    "    maxdf = pd.read_csv(path + '/air_temp_max_raw/'+r+'.csv',header=None,names=['date','max'])\n",
    "    mindf = pd.read_csv(path + '/air_temp_min_raw/'+r+'.csv',header=None,names=['date','min'])\n",
    "    weekly_max = maxdf.rolling(7, center=True)\n",
    "    df = pd.concat([maxdf,mindf['min']],axis=1)\n",
    "    df['region_name'] = r\n",
    "    df['region_code'] = code_dict[r]\n",
    "    atdf = pd.concat([atdf,df])\n",
    "    print(atdf.shape)"
   ]
  },
  {
   "cell_type": "code",
   "execution_count": 7,
   "id": "859eeba0",
   "metadata": {},
   "outputs": [],
   "source": [
    "atdf['date'] = pd.to_datetime(atdf['date'])"
   ]
  },
  {
   "cell_type": "code",
   "execution_count": 5,
   "id": "d8da6d76",
   "metadata": {},
   "outputs": [],
   "source": [
    "atweek = pd.DataFrame()"
   ]
  },
  {
   "cell_type": "code",
   "execution_count": 7,
   "id": "65471371",
   "metadata": {},
   "outputs": [],
   "source": [
    "# Construct a dataframe for weekly data\n",
    "for r in code_dict:\n",
    "    # for max\n",
    "    maxdf = pd.read_csv(path + '/air_temp_max_raw/'+r+'.csv',header=None,names=['date','max'])\n",
    "    maxdf['date'] = pd.to_datetime(maxdf['date'])\n",
    "    maxdf = maxdf.set_index('date')\n",
    "    maxweek = maxdf.resample('W-Fri').max()\n",
    "    # for min\n",
    "    mindf = pd.read_csv(path + '/air_temp_min_raw/'+r+'.csv',header=None,names=['date','min'])\n",
    "    mindf['date'] = pd.to_datetime(mindf['date'])\n",
    "    mindf = mindf.set_index('date')\n",
    "    minweek = mindf.resample('W-Fri').min()\n",
    "    # concat max and min\n",
    "    df = pd.concat([maxweek,minweek['min']],axis=1)\n",
    "    df['region_name'] = r\n",
    "    df['region_code'] = code_dict[r]\n",
    "    atweek = pd.concat([atweek,df])"
   ]
  },
  {
   "cell_type": "code",
   "execution_count": 8,
   "id": "22713010",
   "metadata": {},
   "outputs": [
    {
     "ename": "NameError",
     "evalue": "name 'atdf' is not defined",
     "output_type": "error",
     "traceback": [
      "\u001b[1;31m---------------------------------------------------------------------------\u001b[0m",
      "\u001b[1;31mNameError\u001b[0m                                 Traceback (most recent call last)",
      "\u001b[1;32m~\\AppData\\Local\\Temp/ipykernel_2112/3066114317.py\u001b[0m in \u001b[0;36m<module>\u001b[1;34m\u001b[0m\n\u001b[1;32m----> 1\u001b[1;33m \u001b[0matdf\u001b[0m \u001b[1;33m=\u001b[0m \u001b[0matdf\u001b[0m\u001b[1;33m[\u001b[0m\u001b[1;33m[\u001b[0m\u001b[1;34m'date'\u001b[0m\u001b[1;33m,\u001b[0m\u001b[1;34m'region_code'\u001b[0m\u001b[1;33m,\u001b[0m\u001b[1;34m'region_name'\u001b[0m\u001b[1;33m,\u001b[0m\u001b[1;34m'min'\u001b[0m\u001b[1;33m,\u001b[0m\u001b[1;34m'max'\u001b[0m\u001b[1;33m]\u001b[0m\u001b[1;33m]\u001b[0m\u001b[1;33m\u001b[0m\u001b[1;33m\u001b[0m\u001b[0m\n\u001b[0m",
      "\u001b[1;31mNameError\u001b[0m: name 'atdf' is not defined"
     ]
    }
   ],
   "source": [
    "atdf = atdf[['date','region_code','region_name','min','max']]"
   ]
  },
  {
   "cell_type": "code",
   "execution_count": 19,
   "id": "c63a9956",
   "metadata": {},
   "outputs": [],
   "source": [
    "atdf.to_csv(path + '\\daily_max_min.csv', index=False)"
   ]
  },
  {
   "cell_type": "code",
   "execution_count": 9,
   "id": "76d125fa",
   "metadata": {},
   "outputs": [],
   "source": [
    "atweek = atweek[['region_code','region_name','min','max']]"
   ]
  },
  {
   "cell_type": "code",
   "execution_count": 10,
   "id": "6a1c8ec4",
   "metadata": {},
   "outputs": [],
   "source": [
    "atweek.to_csv(path + '\\weekly_max_min_Friday.csv')"
   ]
  },
  {
   "cell_type": "code",
   "execution_count": null,
   "id": "77665000",
   "metadata": {},
   "outputs": [],
   "source": []
  }
 ],
 "metadata": {
  "kernelspec": {
   "display_name": "Python 3 (ipykernel)",
   "language": "python",
   "name": "python3"
  },
  "language_info": {
   "codemirror_mode": {
    "name": "ipython",
    "version": 3
   },
   "file_extension": ".py",
   "mimetype": "text/x-python",
   "name": "python",
   "nbconvert_exporter": "python",
   "pygments_lexer": "ipython3",
   "version": "3.9.7"
  }
 },
 "nbformat": 4,
 "nbformat_minor": 5
}
